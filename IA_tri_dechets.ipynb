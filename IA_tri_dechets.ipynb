{
  "nbformat": 4,
  "nbformat_minor": 0,
  "metadata": {
    "colab": {
      "name": "IA_tri_dechets.ipynb",
      "provenance": [],
      "collapsed_sections": [],
      "include_colab_link": true
    },
    "kernelspec": {
      "name": "python3",
      "display_name": "Python 3"
    },
    "language_info": {
      "name": "python"
    }
  },
  "cells": [
    {
      "cell_type": "markdown",
      "metadata": {
        "id": "view-in-github",
        "colab_type": "text"
      },
      "source": [
        "<a href=\"https://colab.research.google.com/github/Chenow/IA_tri_dechets/blob/main/IA_tri_dechets.ipynb\" target=\"_parent\"><img src=\"https://colab.research.google.com/assets/colab-badge.svg\" alt=\"Open In Colab\"/></a>"
      ]
    },
    {
      "cell_type": "code",
      "source": [
        "!git clone https://github.com/Chenow/IA_tri_dechets.git"
      ],
      "metadata": {
        "colab": {
          "base_uri": "https://localhost:8080/"
        },
        "id": "Q5200mv6iNmQ",
        "outputId": "a47a4408-158e-496f-c3e2-0f593e365126"
      },
      "execution_count": 1,
      "outputs": [
        {
          "output_type": "stream",
          "name": "stdout",
          "text": [
            "Cloning into 'IA_tri_dechets'...\n",
            "remote: Enumerating objects: 2546, done.\u001b[K\n",
            "remote: Counting objects: 100% (2546/2546), done.\u001b[K\n",
            "remote: Compressing objects: 100% (2543/2543), done.\u001b[K\n",
            "remote: Total 2546 (delta 2), reused 2536 (delta 0), pack-reused 0\u001b[K\n",
            "Receiving objects: 100% (2546/2546), 40.50 MiB | 32.27 MiB/s, done.\n",
            "Resolving deltas: 100% (2/2), done.\n"
          ]
        }
      ]
    },
    {
      "cell_type": "code",
      "metadata": {
        "colab": {
          "base_uri": "https://localhost:8080/"
        },
        "id": "qXmu34YLVRxP",
        "outputId": "3155a423-3ddf-448e-e804-9dd10e3f02b2"
      },
      "source": [
        "!python /content/IA_tri_dechets/train.py"
      ],
      "execution_count": null,
      "outputs": [
        {
          "output_type": "stream",
          "name": "stdout",
          "text": [
            "2022-02-06 18:59:10.108453: E tensorflow/stream_executor/cuda/cuda_driver.cc:271] failed call to cuInit: CUDA_ERROR_NO_DEVICE: no CUDA-capable device is detected\n",
            "Traceback (most recent call last):\n",
            "  File \"/content/IA_tri_dechets/train.py\", line 28, in <module>\n",
            "    train_model()\n",
            "  File \"/content/IA_tri_dechets/train.py\", line 21, in train_model\n",
            "    model = get_model(input_shape)\n",
            "  File \"/content/IA_tri_dechets/train.py\", line 16, in get_model\n",
            "    x_output = calculate_probability(x_input)\n",
            "NameError: name 'calculate_probability' is not defined\n"
          ]
        }
      ]
    },
    {
      "cell_type": "code",
      "source": [
        "!git add ./IA_tri_dechets/\n",
        "!git commit -m \"test\"\n",
        "!git push"
      ],
      "metadata": {
        "colab": {
          "base_uri": "https://localhost:8080/"
        },
        "id": "arXSZXmNiaTi",
        "outputId": "21a42027-48f8-4dfe-e822-fc46700bbd62"
      },
      "execution_count": 5,
      "outputs": [
        {
          "output_type": "stream",
          "name": "stdout",
          "text": [
            "fatal: not a git repository (or any of the parent directories): .git\n",
            "fatal: not a git repository (or any of the parent directories): .git\n",
            "fatal: not a git repository (or any of the parent directories): .git\n"
          ]
        }
      ]
    },
    {
      "cell_type": "code",
      "source": [
        "!pwd"
      ],
      "metadata": {
        "colab": {
          "base_uri": "https://localhost:8080/"
        },
        "id": "OpAZ3ukIjBVH",
        "outputId": "f06e2881-51c4-41a3-c564-d038ec702d12"
      },
      "execution_count": 4,
      "outputs": [
        {
          "output_type": "stream",
          "name": "stdout",
          "text": [
            "/content\n"
          ]
        }
      ]
    }
  ]
}