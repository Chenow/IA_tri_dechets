{
  "nbformat": 4,
  "nbformat_minor": 0,
  "metadata": {
    "colab": {
      "name": "Untitled1.ipynb",
      "provenance": [],
      "authorship_tag": "ABX9TyOEFRLLyIE7V74avXW8ptAB",
      "include_colab_link": true
    },
    "kernelspec": {
      "name": "python3",
      "display_name": "Python 3"
    },
    "language_info": {
      "name": "python"
    }
  },
  "cells": [
    {
      "cell_type": "markdown",
      "metadata": {
        "id": "view-in-github",
        "colab_type": "text"
      },
      "source": [
        "<a href=\"https://colab.research.google.com/github/Chenow/IA_tri_dechets/blob/main/Untitled1.ipynb\" target=\"_parent\"><img src=\"https://colab.research.google.com/assets/colab-badge.svg\" alt=\"Open In Colab\"/></a>"
      ]
    },
    {
      "cell_type": "code",
      "metadata": {
        "colab": {
          "base_uri": "https://localhost:8080/"
        },
        "id": "qXmu34YLVRxP",
        "outputId": "ae0e764d-7a98-4589-81c5-1d49d440c300"
      },
      "source": [
        "!git clone https://github.com/Chenow/IA_tri_dechets.git"
      ],
      "execution_count": 1,
      "outputs": [
        {
          "output_type": "stream",
          "name": "stdout",
          "text": [
            "Cloning into 'IA_tri_dechets'...\n",
            "remote: Enumerating objects: 2540, done.\u001b[K\n",
            "remote: Counting objects: 100% (2540/2540), done.\u001b[K\n",
            "remote: Compressing objects: 100% (2537/2537), done.\u001b[K\n",
            "remote: Total 2540 (delta 0), reused 2537 (delta 0), pack-reused 0\u001b[K\n",
            "Receiving objects: 100% (2540/2540), 40.49 MiB | 36.89 MiB/s, done.\n"
          ]
        }
      ]
    },
    {
      "cell_type": "code",
      "metadata": {
        "colab": {
          "base_uri": "https://localhost:8080/",
          "height": 391
        },
        "id": "-xHHsEL47RhI",
        "outputId": "820676e6-3257-4efd-dfd9-8a4c0a11151a"
      },
      "source": [
        "import tensorflow as tf\n",
        "from tensorflow import keras\n",
        "import numpy as np\n",
        "\n",
        "from IA_tri_dechets.model import calculate_probability\n",
        "\n",
        "input_shape = (32, 32,3)\n",
        "\n",
        "def get_data(input_shape):\n",
        "    x = np.array([tf.random.normal(input_shape)])\n",
        "    y =np.array([[0,0,0,1,0,0]])\n",
        "    return x,y\n",
        "\n",
        "def get_model(input_shape):\n",
        "    x_input = tf.keras.layers.Input(input_shape)\n",
        "    x_output = calculate_probability(x_input)\n",
        "    return tf.keras.Model(inputs=x_input, outputs=x_output)\n",
        "\n",
        "def train_model():\n",
        "    data = get_data(input_shape)\n",
        "    model = get_model(input_shape)\n",
        "    model.summary()\n",
        "    model.compile(optimizer=tf.keras.optimizers.Adam(learning_rate=1e-3),\n",
        "                  loss=tf.keras.losses.CategoricalCrossentropy())\n",
        "    model.fit(data[0], data[1])\n",
        "\n",
        "                  \n",
        "train_model()\n",
        "\n",
        "\n",
        "\n",
        "\n",
        "def block_model(x,\n",
        "                nbr_conv,\n",
        "                nbr_filtres,\n",
        "                padding=PADDING_MODEL,\n",
        "                activation=ACTIVATION_MODEL,\n",
        "                kernel_size=KERNEL_SIZE_MODEL,\n",
        "                pool_size=POOL_SIZE_MODEL\n",
        "                ):\n",
        "  x = keras.layers.MaxPooling2D(pool_size=pool_size, padding=padding)\n",
        "  for i in range(2):\n",
        "     x = keras.layers.Conv2D(nbr_filtres,\n",
        "                            kernel_size,\n",
        "                            activation=activation,\n",
        "                            padding=padding)(x)\n",
        "  for i in range(nbr_conv):\n",
        "    y = keras.layers.Conv2D(nbr_filtres,\n",
        "                            kernel_size,\n",
        "                            activation=activation,\n",
        "                            padding=padding)(x)\n",
        "    x += keras.layers.Conv2D(nbr_filtres,\n",
        "                            kernel_size,\n",
        "                            activation=activation,\n",
        "                            padding=padding)(y)\n",
        "  return x\n",
        "\n",
        "def model(x,\n",
        "          nbr_conv=NBR_CONV_MODEL,\n",
        "          padding=PADDING_MODEL,\n",
        "          activation=ACTIVATION_MODEL,\n",
        "          kernel_size=KERNEL_SIZE_MODEL,\n",
        "          pool_size=POOL_SIZE_MODEL):\n",
        "  x = keras.layers.Conv2D(64, 7, 7, padding=padding, activation=activation)(x)\n",
        "  for i in range(len(nbr_conv)):\n",
        "    x = block_model(x,\n",
        "                nbr_conv[i],\n",
        "                64*2**i,\n",
        "                padding=PADDING_MODEL,\n",
        "                activation=ACTIVATION_MODEL,\n",
        "                kernel_size=KERNEL_SIZE_MODEL,\n",
        "                pool_size=POOL_SIZE_MODEL\n",
        "                )\n",
        "  x = keras.layers.AveragePooling2D(pool_size=pool_size, padding=padding)(x)\n",
        "  return x\n",
        "\n",
        "\n",
        "\n",
        "\n",
        "# General data parameters\n",
        "DATASET_PATH = 'dataset-resized'\n",
        "SHUFFLE_DATA = True\n",
        "\n",
        "# Data generator parameters\n",
        "TRAINING_BATCH_SIZE = 16\n",
        "TRAINING_IMAGE_SIZE = (28, 28)\n",
        "VALIDATION_BATCH_SIZE = 16\n",
        "VALIDATION_IMAGE_SIZE = (28, 28)\n",
        "TESTING_BATCH_SIZE = 16\n",
        "TESTING_IMAGE_SIZE = (28, 28)\n",
        "NUMBER_OF_CHANNELS = 3\n",
        "\n",
        "# Model parameters\n",
        "PADDING_MODEL = \"same\"\n",
        "ACTIVATION_MODEL = \"relu\"\n",
        "KERNEL_SIZE_MODEL = (3, 3)\n",
        "POOL_SIZE_MODEL = (2, 2)\n",
        "NBR_CONV_MODEL = [3, 3, 5, 2]\n",
        "  \n",
        "\n",
        "\n",
        "\n",
        "\n",
        "\n",
        "\n",
        "\n",
        "\n",
        "\n"
      ],
      "execution_count": 4,
      "outputs": [
        {
          "output_type": "error",
          "ename": "NameError",
          "evalue": "ignored",
          "traceback": [
            "\u001b[0;31m---------------------------------------------------------------------------\u001b[0m",
            "\u001b[0;31mNameError\u001b[0m                                 Traceback (most recent call last)",
            "\u001b[0;32m<ipython-input-4-9bdb2d3255db>\u001b[0m in \u001b[0;36m<module>\u001b[0;34m()\u001b[0m\n\u001b[1;32m      3\u001b[0m \u001b[0;32mimport\u001b[0m \u001b[0mnumpy\u001b[0m \u001b[0;32mas\u001b[0m \u001b[0mnp\u001b[0m\u001b[0;34m\u001b[0m\u001b[0;34m\u001b[0m\u001b[0m\n\u001b[1;32m      4\u001b[0m \u001b[0;34m\u001b[0m\u001b[0m\n\u001b[0;32m----> 5\u001b[0;31m \u001b[0;32mfrom\u001b[0m \u001b[0mIA_tri_dechets\u001b[0m\u001b[0;34m.\u001b[0m\u001b[0mmodel\u001b[0m \u001b[0;32mimport\u001b[0m \u001b[0mcalculate_probability\u001b[0m\u001b[0;34m\u001b[0m\u001b[0;34m\u001b[0m\u001b[0m\n\u001b[0m\u001b[1;32m      6\u001b[0m \u001b[0;34m\u001b[0m\u001b[0m\n\u001b[1;32m      7\u001b[0m \u001b[0minput_shape\u001b[0m \u001b[0;34m=\u001b[0m \u001b[0;34m(\u001b[0m\u001b[0;36m32\u001b[0m\u001b[0;34m,\u001b[0m \u001b[0;36m32\u001b[0m\u001b[0;34m,\u001b[0m\u001b[0;36m3\u001b[0m\u001b[0;34m)\u001b[0m\u001b[0;34m\u001b[0m\u001b[0;34m\u001b[0m\u001b[0m\n",
            "\u001b[0;32m/content/IA_tri_dechets/model.py\u001b[0m in \u001b[0;36m<module>\u001b[0;34m()\u001b[0m\n\u001b[1;32m      2\u001b[0m                 \u001b[0mnbr_conv\u001b[0m\u001b[0;34m,\u001b[0m\u001b[0;34m\u001b[0m\u001b[0;34m\u001b[0m\u001b[0m\n\u001b[1;32m      3\u001b[0m                 \u001b[0mnbr_filtres\u001b[0m\u001b[0;34m,\u001b[0m\u001b[0;34m\u001b[0m\u001b[0;34m\u001b[0m\u001b[0m\n\u001b[0;32m----> 4\u001b[0;31m                 \u001b[0mpadding\u001b[0m\u001b[0;34m=\u001b[0m\u001b[0mPADDING_MODEL\u001b[0m\u001b[0;34m,\u001b[0m\u001b[0;34m\u001b[0m\u001b[0;34m\u001b[0m\u001b[0m\n\u001b[0m\u001b[1;32m      5\u001b[0m                 \u001b[0mactivation\u001b[0m\u001b[0;34m=\u001b[0m\u001b[0mACTIVATION_MODEL\u001b[0m\u001b[0;34m,\u001b[0m\u001b[0;34m\u001b[0m\u001b[0;34m\u001b[0m\u001b[0m\n\u001b[1;32m      6\u001b[0m                 \u001b[0mkernel_size\u001b[0m\u001b[0;34m=\u001b[0m\u001b[0mKERNEL_SIZE_MODEL\u001b[0m\u001b[0;34m,\u001b[0m\u001b[0;34m\u001b[0m\u001b[0;34m\u001b[0m\u001b[0m\n",
            "\u001b[0;31mNameError\u001b[0m: name 'PADDING_MODEL' is not defined"
          ]
        }
      ]
    },
    {
      "cell_type": "code",
      "metadata": {
        "colab": {
          "base_uri": "https://localhost:8080/"
        },
        "id": "Bf7nsE3RbXYp",
        "outputId": "99aab988-f69d-4a70-f4ad-4f9e39e7d617"
      },
      "source": [
        "\n",
        "\n",
        "\n",
        "\n",
        "\n"
      ],
      "execution_count": 3,
      "outputs": [
        {
          "output_type": "stream",
          "name": "stdout",
          "text": [
            "fatal: not a git repository (or any of the parent directories): .git\n"
          ]
        }
      ]
    }
  ]
}